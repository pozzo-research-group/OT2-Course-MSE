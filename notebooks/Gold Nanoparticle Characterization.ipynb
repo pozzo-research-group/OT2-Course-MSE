{
 "cells": [
  {
   "cell_type": "markdown",
   "id": "ef7900fe",
   "metadata": {},
   "source": [
    "## 1. Uv-Vis Spectroscopy "
   ]
  },
  {
   "cell_type": "markdown",
   "id": "f14f3d90",
   "metadata": {},
   "source": [
    "After gold nanoparticles have been synthesized, it is useful to characterize them to determine their size and shape. There are many ways to do this, one of which is Uv-Vis Spectroscopy. Spectroscopy is the study of how matter interacts with electromagnetic radiation, and Uv-Vis referes to the type of electromagnetic radition that will be used. Therefore, this technique uses light in the Uv-Visible range (different color of lights) to perform spectroscopy. The image below shows the basics of how it works. Light in the Uv-vis range (wavelengths of 300 - 900 nm) is emitted on a sample. A detector is placed directly behind the sample to measure how much of each wavelength passes through the sample. \n",
    "\n",
    "<img src= \"../images/Uv-vis.jpg\" width = \"700\"/>"
   ]
  },
  {
   "cell_type": "markdown",
   "id": "ce4dba49",
   "metadata": {},
   "source": [
    "While the detector measures how much light is transmitted through the sample, a Uv-Vis spectrum shows how much light is absorbed by the sample. There is an inverse relationship between transmittance and absorbance, so high absorbances mean low transmittances and vice versa. The figure below shows two examples of Uv-Vis spectra of gold nanospheres and gold nanorods. Extinction is synonym for absorbance. \n",
    "\n",
    "<img src= \"../images/spectra.jpg\" width = \"700\"/>"
   ]
  },
  {
   "cell_type": "markdown",
   "id": "9d532da0",
   "metadata": {},
   "source": [
    "From the graphs above, it is evident that gold nanospheres and nanorods have different spectra, and this can be used to differentiate if our sample consists of rods or spheres. Spheres have one peak while rods have two peaks, as seen in the graphs. We can then compare the location of these peaks to those found in literature to determine the size of the nanoparticles. From literature, a single peak at 520 nm indicates that the spheres have a diameter of 15 nm [1], while two peaks at 530 nm and 780 nm indicates that the rods have a diameter of 10 nm and a length of 40 nm [2]. \n",
    "\n",
    "The Uv-vis spectra of a sample is also related to the color of it. From the spectra of the sphere, we can see that there is a lot of absorbance of light with wavelengths from 300-550 nm. This means that violet, blue, and green light get absorbed by the sample. The wavelengths that do not get absorbed are 600-800 nm which corresponds to red light. Since red light gets does not get absorbed, the sample appears red. For the spectrum of the nanorod, there is a lot of absorbance of light from 700 nm to 850 nm, which corresponds to red light. The wavelengths that do not get absorbed much are orange (600 nm), blue (450 nm) and violet (400 nm). Because of this, the sample has a rose gold color (a mixture of orange, blue, and violet). "
   ]
  },
  {
   "cell_type": "markdown",
   "id": "2542eff6",
   "metadata": {},
   "source": [
    "## References "
   ]
  },
  {
   "cell_type": "markdown",
   "id": "b1759adf",
   "metadata": {},
   "source": [
    "[1] https://www.sigmaaldrich.com/US/en/technical-documents/technical-article/materials-science-and-engineering/biosensors-and-imaging/gold-nanoparticles\n",
    "\n",
    "[2] https://cdn.shopify.com/s/files/1/0259/2325/files/Tech_Specs_NanoHybrids_-_CTAB_stabilized_PEGylated_Gold_NanoRods_v181.pdf?385501948669141292"
   ]
  },
  {
   "cell_type": "code",
   "execution_count": null,
   "id": "8012cbed",
   "metadata": {},
   "outputs": [],
   "source": []
  }
 ],
 "metadata": {
  "kernelspec": {
   "display_name": "Python 3",
   "language": "python",
   "name": "python3"
  },
  "language_info": {
   "codemirror_mode": {
    "name": "ipython",
    "version": 3
   },
   "file_extension": ".py",
   "mimetype": "text/x-python",
   "name": "python",
   "nbconvert_exporter": "python",
   "pygments_lexer": "ipython3",
   "version": "3.8.2"
  }
 },
 "nbformat": 4,
 "nbformat_minor": 5
}
