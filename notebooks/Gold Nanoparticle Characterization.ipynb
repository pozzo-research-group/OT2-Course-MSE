{
 "cells": [
  {
   "cell_type": "markdown",
   "id": "37918b1b",
   "metadata": {},
   "source": [
    "## 1. Uv-Vis Spectroscopy "
   ]
  },
  {
   "cell_type": "markdown",
   "id": "25b57af6",
   "metadata": {},
   "source": [
    "After gold nanoparticles have been synthesized, it is useful to characterize them to determine their size and shape. There are many ways to do this, one of which is Uv-Vis Spectroscopy. Spectroscopy is the study of how matter interacts with electromagnetic radiation, and Uv-Vis referes to the type of electromagnetic radition that will be used. Therefore, this technique uses light in the Uv-Visible range to perform spectroscopy. The image below shows the basics of how it works. Light in the Uv-vis range (wavelengths of 300 - 900 nm) is emitted through a sample. A detector is placed directly behind the sample to measure how much of each wavelength passes through the sample. A graph of wavelength in the x-axis and intensity in the y-axis is created which is called a Uv-vis spectrum.\n",
    "\n",
    "<img src= \"../images/Uv-vis.jpg\" width = \"1000\"/>"
   ]
  },
  {
   "cell_type": "markdown",
   "id": "37e1bcf6",
   "metadata": {},
   "source": [
    "- talk about how color relates to the uv vis spectrum\n",
    "- while the detector detects how much light is transmitted, the spectrum shows how much is absorbed \n",
    "- how to identify the size and shape of gold nanoparticles based on uv vis \n",
    "- advantages and disadvantages of uv vis\n",
    "- sphere and rod uv vis spectra"
   ]
  },
  {
   "cell_type": "code",
   "execution_count": null,
   "id": "38e50053",
   "metadata": {},
   "outputs": [],
   "source": []
  }
 ],
 "metadata": {
  "kernelspec": {
   "display_name": "Python 3",
   "language": "python",
   "name": "python3"
  },
  "language_info": {
   "codemirror_mode": {
    "name": "ipython",
    "version": 3
   },
   "file_extension": ".py",
   "mimetype": "text/x-python",
   "name": "python",
   "nbconvert_exporter": "python",
   "pygments_lexer": "ipython3",
   "version": "3.8.2"
  }
 },
 "nbformat": 4,
 "nbformat_minor": 5
}
