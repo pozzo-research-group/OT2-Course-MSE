{
 "cells": [
  {
   "cell_type": "markdown",
   "id": "8f5c3af0",
   "metadata": {},
   "source": [
    "## 1. What are Gold Nanoparticles"
   ]
  },
  {
   "cell_type": "markdown",
   "id": "159d506b",
   "metadata": {},
   "source": [
    "Gold nanoparticles are small particle of gold that have nanometer dimensions. They are useful for several applications such as optical, energetical, or electrical. The structure and size of nanoparticles are often tied to their function, so synthesizing gold nanoparticles of specific structures and sizes is an important step for them to be useful to solve real-world problems.  "
   ]
  },
  {
   "cell_type": "markdown",
   "id": "e1e41c52",
   "metadata": {},
   "source": [
    "## 2. Gold Nanoparticle Synthesis"
   ]
  },
  {
   "cell_type": "markdown",
   "id": "ae54bcef",
   "metadata": {},
   "source": [
    "Gold nanoparticles can be synthesized in many ways depending on the desired shape or size. Despite this, there are many similarities in the steps performed. In one of the most common synthesis methods by Nikoobakht & El-Sayed, the following chemicals are used. \n",
    "\n",
    "- **Chloroauric Acid**: the source of gold atoms to create the nanoparticles\n",
    "- **Ascorbic Acid**: a reducing agent which reacts with Chloroauric Acid to produce Gold atoms \n",
    "- **CTAB**: a surfactant that sticks to the surface of the nanoparticles and prevents them from complete aggregation\n",
    "- **Gold Seeds**: small gold nanoparticles that serve as nucleation sites (i.e., starting points) to form bigger nanoparticles\n",
    "- **Silver Nitrate**: controls whether gold nanospheres or gold nanorods are formed \n",
    "\n",
    "In addition to the chemicals, the synthesis must be done at 30 degrees Celsius, and the chemicals have to be added in a specfic order. The result of the synthesis (i.e., the size and shape of the gold nanoparticles) is very sensitve to the experimental conditions and parameters. This means that small changes in parameters, such as the amounts of chemicals used, or in conditions, such as temperature, can lead to very different nanoparticle shapes and sizes. \n",
    "\n",
    "<img src= \"../images/synthesis.jpg\" width = 900, height = 500/>\n"
   ]
  },
  {
   "cell_type": "markdown",
   "id": "4e99f9cc",
   "metadata": {},
   "source": [
    "The figure above shows the function of each chemical that is added. Because there are 5 chemical reagents that undergo a complex reaction, the experimental design space is very large and complex. The experimental design space refers to the number of different combinations of the concentrations of reagents that can be used to syntheisze gold nanoparticles. The only way to explore this design space, is to test the different combinations by performing the synthesis method.\n",
    "\n",
    "Lets calculate how many times we need to perform the synthesis to explore the experimental design space. Suppose that stock solutions are created for each of the 5 reagents and that you can pipette 0 - 100 uL of each solution. The temperature is kept at 30 degrees Celsius and the reagents are added in a specific order. The number of total combinations is:\n",
    "\n",
    "<font size=\"5\"> <center> $ \\frac{100!}{5!(100-5)!} \\approx 75,000,000$ </center> </font> \n",
    "<br>\n",
    "This means that we need to repeat the synthesis method around 75 million times to completely explore the design space!\n",
    "\n",
    "Luckily there are many ways to solve this problem. One way is to simplify the design space. For example, instead of varying all 5 reagents, we can keep 3 reagents constant and only vary 2. This dramatically reduces the number of syntheses we have to perform, in exchange of getting less information on the design space. Despite this simplification, we still have to repeat the synthesis quite a few times. "
   ]
  },
  {
   "cell_type": "markdown",
   "id": "225efb22",
   "metadata": {},
   "source": [
    "## 3. Automation"
   ]
  },
  {
   "cell_type": "markdown",
   "id": "88d833af",
   "metadata": {},
   "source": [
    "A better solution to explore the design space is by automating the process. For example, liquid handling robots can be used to mix the reagents for us. There are several advantages that automation offers. The first is that they are fast which means that they can mix liquids faster than humans can. The second is that they do not make mistakes which means that experiments are more reproducible. The third is that they do not get tired, meaning that they can work much more than humans can. All these reasons make robots perfect candidates to explore large and complex experimental design spaces, such as gold nanoparticle synthesis. We will be using the OT2 Pipetting robots for this reason.  \n",
    "\n",
    "<img src= \"../images/OT2.png\" width = 300, height = 100/>"
   ]
  },
  {
   "cell_type": "markdown",
   "id": "e76c718a",
   "metadata": {},
   "source": [
    "## References "
   ]
  },
  {
   "cell_type": "markdown",
   "id": "372248a8",
   "metadata": {},
   "source": [
    "Nikoobakht, B., & El-Sayed, M. A. (2003). Preparation and growth mechanism of gold nanorods (NRs) using seed-mediated growth method. Chemistry of Materials, 15(10), 1957–1962. https://doi.org/10.1021/cm020732l"
   ]
  },
  {
   "cell_type": "code",
   "execution_count": null,
   "id": "bdc1aaa8",
   "metadata": {},
   "outputs": [],
   "source": []
  }
 ],
 "metadata": {
  "kernelspec": {
   "display_name": "Python 3",
   "language": "python",
   "name": "python3"
  },
  "language_info": {
   "codemirror_mode": {
    "name": "ipython",
    "version": 3
   },
   "file_extension": ".py",
   "mimetype": "text/x-python",
   "name": "python",
   "nbconvert_exporter": "python",
   "pygments_lexer": "ipython3",
   "version": "3.8.2"
  }
 },
 "nbformat": 4,
 "nbformat_minor": 5
}
