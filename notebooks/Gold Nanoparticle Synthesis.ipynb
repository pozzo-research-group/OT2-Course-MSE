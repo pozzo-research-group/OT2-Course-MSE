{
 "cells": [
  {
   "cell_type": "markdown",
   "id": "55c1e1e9",
   "metadata": {},
   "source": [
    "## 1. What are Gold Nanoparticles"
   ]
  },
  {
   "cell_type": "markdown",
   "id": "d86b6887",
   "metadata": {},
   "source": [
    "Gold nanoparticles are small particle of gold that have nanometer dimensions. They are useful for several applications such as optical, energetical, or electrical. The structure and size of nanoparticles are often tied to their function, so synthesizing gold nanoparticles of specific structures and sizes is an important step for them to be useful to solve real-world problems.  "
   ]
  },
  {
   "cell_type": "markdown",
   "id": "444d72dc",
   "metadata": {},
   "source": [
    "## 2. Gold Nanoparticle Synthesis"
   ]
  },
  {
   "cell_type": "markdown",
   "id": "0316ba27",
   "metadata": {},
   "source": [
    "Gold nanoparticles can be synthesized in many ways depending on the desired shape or size. Despite this, there are many similarities in the steps performed. In one of the most common synthesis methods by Nikoobakht & El-Sayed, the following chemicals are used. \n",
    "\n",
    "- **Gold Chloride**: the source of gold atoms to create the nanoparticles\n",
    "- **Ascorbic Acid**: a reducing agent which reacts with Gold Chloride to produce Gold atoms \n",
    "- **CTAB**: a surfactant that sticks to the surface of the nanoparticles and prevents them from aggregating \n",
    "- **Silver Nitrate**: controls whether the gold nanospheres or gold nanorods are formed \n",
    "- **Gold Seeds**: small gold nanoparticles that serve as starting points to form bigger nanoparticles \n",
    "\n",
    "In addition, to the chemicals, the synthesis must be done at 30 degrees Celsius, and the chemicals have to be added in a specfic order. All result of the synthesis (i.e., the size and shape of the gold nanoparticles) is very sensitve to the experimental conditions and parameters. This means that small changes in parameters, such as the amounts of chemicals used, or in conditions, such as temperature, can lead to very different nanoparticle shapes and sizes. "
   ]
  },
  {
   "cell_type": "markdown",
   "id": "6361853a",
   "metadata": {},
   "source": [
    "## 3. Automation"
   ]
  },
  {
   "cell_type": "code",
   "execution_count": null,
   "id": "603323a1",
   "metadata": {},
   "outputs": [],
   "source": []
  },
  {
   "cell_type": "markdown",
   "id": "e02f3daf",
   "metadata": {},
   "source": [
    "## References "
   ]
  },
  {
   "cell_type": "markdown",
   "id": "893dfbc4",
   "metadata": {},
   "source": [
    "Nikoobakht, B., & El-Sayed, M. A. (2003). Preparation and growth mechanism of gold nanorods (NRs) using seed-mediated growth method. Chemistry of Materials, 15(10), 1957–1962. https://doi.org/10.1021/cm020732l"
   ]
  },
  {
   "cell_type": "code",
   "execution_count": null,
   "id": "63050c30",
   "metadata": {},
   "outputs": [],
   "source": []
  }
 ],
 "metadata": {
  "kernelspec": {
   "display_name": "Python 3",
   "language": "python",
   "name": "python3"
  },
  "language_info": {
   "codemirror_mode": {
    "name": "ipython",
    "version": 3
   },
   "file_extension": ".py",
   "mimetype": "text/x-python",
   "name": "python",
   "nbconvert_exporter": "python",
   "pygments_lexer": "ipython3",
   "version": "3.8.2"
  }
 },
 "nbformat": 4,
 "nbformat_minor": 5
}
