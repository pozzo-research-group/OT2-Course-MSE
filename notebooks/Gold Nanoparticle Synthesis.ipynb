{
 "cells": [
  {
   "cell_type": "markdown",
   "id": "2404ed62",
   "metadata": {},
   "source": [
    "## 1. What are Gold Nanoparticles?"
   ]
  },
  {
   "cell_type": "markdown",
   "id": "3d510c2e",
   "metadata": {},
   "source": [
    "Gold nanoparticles (AuNP) are small particle of gold that have nanometer dimensions. They are useful for several applications such as medical, optical, or electrical. Some medical applications of gold nanoparticles are in drug delivery and therapeutics. In drug delivery, gold nanoparticles have been shown to have the ability to target and enter the organelles of tumor cells, which makes them good candidates to deliver drugs to these cells. In therapeutics, gold nanoparticles have been used to kill bacteria or fungi with heat. These nanoparticles have the unique ability to convert light to heat, meaning that heat can be used in a controlled manner to kill the bacteria or fungi [1].\n",
    "\n",
    "<img src= \"../images/AuNP_applications.jpg\" width = \"900\" />"
   ]
  },
  {
   "cell_type": "markdown",
   "id": "cc0d716d",
   "metadata": {},
   "source": [
    "The structure and size of nanoparticles are often tied to their function, so synthesizing gold nanoparticles of specific structures and sizes is an important step for them to be useful to solve real-world problems. In this module, we will learn about gold nanoparticle synthesis, explore the experimental design space, and perform the synthesis in high-throughput using automated liquid handling robots. "
   ]
  },
  {
   "cell_type": "markdown",
   "id": "e42658d8",
   "metadata": {},
   "source": [
    "## 2. Gold Nanoparticle Synthesis"
   ]
  },
  {
   "cell_type": "markdown",
   "id": "d916d966",
   "metadata": {},
   "source": [
    "Gold nanoparticles can be synthesized in many ways depending on their desired shape or size. In one of the most popular chemical synthesis methods by Nikoobakht & El-Sayed, the following chemicals are used [2]. \n",
    "\n",
    "- **Chloroauric Acid**: the source of gold atoms to create the nanoparticles\n",
    "- **Ascorbic Acid**: a reducing agent which reacts with Chloroauric Acid to produce gold ions, Au(I) \n",
    "- **CTAB**: a surfactant that sticks to the surface of the nanoparticles and prevents them from complete aggregation\n",
    "- **Gold Seeds**: small gold nanoparticles that serve as nucleation sites (i.e., starting points) to form bigger nanoparticles\n",
    "- **Silver Nitrate**: controls whether gold nanospheres or gold nanorods are formed \n",
    "\n",
    "In addition to the chemicals, the synthesis must be done at 30 degrees Celsius, and the chemicals have to be added in a specfic order. The result of the synthesis (i.e., the size and shape of the gold nanoparticles) is very sensitve to the experimental conditions and parameters. This means that small changes in parameters, such as the amounts of chemicals used, or in conditions, such as temperature, can lead to different nanoparticle shapes and sizes. \n",
    "\n",
    "<img src= \"../images/synthesis.jpg\"  width = \"900\" />\n"
   ]
  },
  {
   "cell_type": "markdown",
   "id": "8df07188",
   "metadata": {},
   "source": [
    "The figure above shows the function of each chemical that is added. The order that the chemicals are added in the figure is not necessarily the correct order that the chemicals should be added during the synthesis. In short, Chloroauric Acid is reduced by Ascorbic Acid to form gold ions, Au(I), and chlorine ions. CTAB is used as a surfactant to prevent uncontrolled aggregation of the gold ions. Gold seeds, Au(0), are added to catalyze the reaction which reduces Au(I) to Au(0). In this proces, gold ions attach to the surface of the seeds, which then allows the seeds to grow into different nanostructures. Silver Nitrate is used to help the seeds grow into nanorods [3]. \n",
    "\n",
    "Because there are 5 chemical reagents that undergo a complex reaction, the experimental design space is very large and complex. The experimental design space refers to the number of different combinations of the concentrations of reagents that can be used to syntheisze gold nanoparticles. The only way to explore this design space, is to test the different combinations by performing the synthesis for each of the parameters.\n",
    "\n",
    "Lets calculate how many times we need to perform the synthesis to explore the experimental design space. Suppose that stock solutions are created for each of the 5 reagents and that you can pipette 0 - 100 uL of each solution. The temperature is kept at 30 degrees Celsius and the reagents are added in a specific order. The number of total combinations is:\n",
    "\n",
    "<font size=\"5\"> <center> $ \\frac{100!}{5!(100-5)!} \\approx 75,000,000$ </center> </font> \n",
    "<br>\n",
    "This means that we need to repeat the synthesis method around 75 million times to completely explore the design space!\n",
    "\n",
    "Luckily, there are many ways to solve this problem. One way is to simplify the design space. For example, instead of varying all 5 reagents, we can keep 3 reagents constant and only vary 2. This dramatically reduces the number of syntheses we have to perform, in exchange of getting less information on the design space. Despite this simplification, we still have to repeat the synthesis quite a few times. "
   ]
  },
  {
   "cell_type": "markdown",
   "id": "61ff2d53",
   "metadata": {},
   "source": [
    "## 3. Automation"
   ]
  },
  {
   "cell_type": "markdown",
   "id": "d6bc4a24",
   "metadata": {},
   "source": [
    "A better solution to explore the design space is by automating the process. A common way to do this is to use liquid handling robots to mix the reagents for us. There are several advantages that automation offers. The first is that they are fast, which means that they can mix liquids faster than humans can. The second is that they do not make mistakes, which means that experiments are more reproducible. The third is that they do not get tired, which means that they can work for much more time than humans can. All these reasons make robots perfect candidates to explore large and complex experimental design spaces, such as gold nanoparticle synthesis. We will be using the OT2 liquid handling robots for this reason.  \n",
    "\n",
    "<img src= \"../images/OT2andwellplate.jpg\"  width = \"600\" />"
   ]
  },
  {
   "cell_type": "markdown",
   "id": "417e276a",
   "metadata": {},
   "source": [
    "On the left is a picture of the liquid handling robot that we will use to perform the synthesis. On the right is a plastic 96 well plate that will be used to hold the samples. This allow us to create up to 96 low volume samples in a single plate which reduces as much plastic waste as possible. The plates are also compatible with other robots, so we can use the same plate when we characterize the samples.  "
   ]
  },
  {
   "cell_type": "markdown",
   "id": "dd8e47ad",
   "metadata": {},
   "source": [
    "## 4. Characterization\n",
    "\n",
    "After synthesizing gold nanoparticles, we will need to characterize them. Characterizing means to determine the properties of the gold nanoparticles, such as the shape or size. There are many ways to do this, such as with Uv-Vis Spectroscopy, Small Angle X-ray Scattering, Electron Microscopy, Dynamic Light Scattering, etc. All these techniques give some information on the shape, size, concentration, or dispersity of the gold nanoparticles, and using all of them together can give us a good picture of the nanoparticles that we are synthesizing. The figures below are Transmission Electron Microscopy (TEM) images of a gold nanorod and a gold nanosphere. This is one way in which the size and shape can be determined.\n",
    "\n",
    "<img src= \"../images/TEM.jpg\"  width = \"800\" />\n",
    "\n",
    "One advantage of working with gold nanoparticles is that they change color depending on their shape and size. This is a good way to *approximate* the size, and sometimes, the shape of the nanoparticles. It is important to note that looking at the color cannot substitute any of the characterization methods describe in the previous paragraph - they just provde a quick way to roughly estimate which kinds of gold nanoparticles might be forming. \n",
    "\n",
    "<img src= \"../images/GNP_sample.jpg\"  width = \"400\" />\n",
    "\n",
    "The image above is of a 48 well plate with gold nanoparticle samples. In this plate, the nanoparticle's color was either red, purple, pink, or blue. Generally, red indicates smaller nanoparticles (5-60 nm), purple indicates medium sized (60-100 nm), and blue indicates larger ones (100-200 nm). If the sample is colorless, it usually means that no nanoparticles are formed. "
   ]
  },
  {
   "cell_type": "markdown",
   "id": "d9cfd2b5",
   "metadata": {},
   "source": [
    "## 5. Exploring the Design Space"
   ]
  },
  {
   "cell_type": "markdown",
   "id": "787813b9",
   "metadata": {},
   "source": [
    "We will be exploring a 2 dimensional design space of the synthesis of gold nanoparticles with the OT2 liquid handling robots. Run each cell sequentially and follow the instructions. \n",
    "\n",
    "|   Reagent        | Volume Range (uL) | Concentration Range (M)             |\n",
    "|------------------|-------------------|-------------------------------------|\n",
    "| CTAB             | $416$               | $6.4 \\times 10^{-2}$                     |\n",
    "| Chloroauric Acid | $256$               | $1.96 \\times 10^{-4}$                    |\n",
    "| Silver Nitrate   | $20-150$            | $9.84 \\times 10^{-6}$ - $7.38 \\times 10^{-5}$ |\n",
    "| Ascorbic Acid    | $20-150$            | $9.69 \\times 10^{-5}$ - $7.26 \\times 10^{-4}$ |\n",
    "| Gold Seeds       | $102$               | $1.44 \\times 10^{-6}$                    |\n",
    "| Water            | $1300$ - total volume |      "
   ]
  },
  {
   "cell_type": "code",
   "execution_count": 1,
   "id": "18277623",
   "metadata": {},
   "outputs": [],
   "source": [
    "from Prepare_Experiment import prepare_experiment"
   ]
  },
  {
   "cell_type": "markdown",
   "id": "429e669f",
   "metadata": {},
   "source": [
    "Create the design space by changing the min and max concentrations of the reagents using the slider bars. The design space will be equally spaced concentrations between the min and max concentrations. The red dots represent each sample in the design space."
   ]
  },
  {
   "cell_type": "code",
   "execution_count": 2,
   "id": "c5eceb68",
   "metadata": {
    "scrolled": false
   },
   "outputs": [
    {
     "data": {
      "application/vnd.jupyter.widget-view+json": {
       "model_id": "3840ab380b4b483485dfda4860e43402",
       "version_major": 2,
       "version_minor": 0
      },
      "text/plain": [
       "interactive(children=(FloatSlider(value=9.7, description='AA_min', max=72.6, min=9.7, step=0.5), FloatSlider(v…"
      ]
     },
     "metadata": {},
     "output_type": "display_data"
    }
   ],
   "source": [
    "exp = prepare_experiment.experiment()\n",
    "exp.create_design_space()"
   ]
  },
  {
   "cell_type": "markdown",
   "id": "1be82242",
   "metadata": {},
   "source": [
    "Run this line of code when you are ready to proceed. This will create the volumes needed to create each sample, which will be saved as a CSV file. "
   ]
  },
  {
   "cell_type": "code",
   "execution_count": 3,
   "id": "91af11c5",
   "metadata": {},
   "outputs": [],
   "source": [
    "exp.to_volumes()\n",
    "exp.create_samples()"
   ]
  },
  {
   "cell_type": "markdown",
   "id": "0d288a19",
   "metadata": {},
   "source": [
    "## References "
   ]
  },
  {
   "cell_type": "markdown",
   "id": "71d59188",
   "metadata": {},
   "source": [
    "[1] Hu X, Zhang Y, Ding T, Liu J and Zhao H (2020) Multifunctional Gold Nanoparticles: A Novel Nanomaterial for Various Medical Applications and Biological Activities. Front. Bioeng. Biotechnol. 8:990. doi: 10.3389/fbioe.2020.00990\n",
    "\n",
    "[2] Nikoobakht, B., & El-Sayed, M. A. (2003). Preparation and growth mechanism of gold nanorods (NRs) using seed-mediated growth method. Chemistry of Materials, 15(10), 1957–1962. https://doi.org/10.1021/cm020732l\n",
    "\n",
    "[3] Leonardo Scarabelli, Ana Sánchez-Iglesias, Jorge Pérez-Juste, and Luis M. Liz-Marzán (2015). A “Tips and Tricks” Practical Guide to the Synthesis of Gold Nanorods. The Journal of Physical Chemistry Letters, 4270-4279\n",
    "DOI: 10.1021/acs.jpclett.5b02123\n"
   ]
  }
 ],
 "metadata": {
  "kernelspec": {
   "display_name": "Python 3",
   "language": "python",
   "name": "python3"
  },
  "language_info": {
   "codemirror_mode": {
    "name": "ipython",
    "version": 3
   },
   "file_extension": ".py",
   "mimetype": "text/x-python",
   "name": "python",
   "nbconvert_exporter": "python",
   "pygments_lexer": "ipython3",
   "version": "3.8.2"
  }
 },
 "nbformat": 4,
 "nbformat_minor": 5
}
